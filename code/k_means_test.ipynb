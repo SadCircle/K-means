{
 "cells": [
  {
   "cell_type": "code",
   "execution_count": 40,
   "metadata": {},
   "outputs": [],
   "source": [
    "import numpy as np\n",
    "import copy\n",
    "import matplotlib.pyplot as  plt\n",
    "import matplotlib.image as img\n",
    "from PIL import Image \n",
    "from collections import Counter"
   ]
  },
  {
   "cell_type": "code",
   "execution_count": 36,
   "metadata": {},
   "outputs": [],
   "source": [
    "class k_means:\n",
    "    def __init__(self,n_clstrs,seed=None):\n",
    "        if seed:\n",
    "            np.random.seed(seed)\n",
    "        self.colored_points=[]\n",
    "        self.n_clstrs=n_clstrs\n",
    "\n",
    "\n",
    "    def find_nearest_cluster(self,point):\n",
    "        return np.argmin([np.linalg.norm(point-cluster) for cluster in self.clusters])\n",
    "\n",
    "    def color_points(self):\n",
    "        self.colored_points=np.array([self.find_nearest_cluster(point) for point in self.points])\n",
    "        \n",
    "    def calc_new_clusters(self):\n",
    "        old=copy.deepcopy(self.clusters)\n",
    "        for n_cluster in range(len(self.clusters)):\n",
    "            points=np.where(self.colored_points == n_cluster)\n",
    "            if points:\n",
    "                self.clusters[n_cluster]=np.mean(self.points[points],axis=0)\n",
    "        if np.array_equal(old,self.clusters):\n",
    "            return False\n",
    "        return True\n",
    "\n",
    "    def calc_claster_distanse(self):\n",
    "        distanse=[]\n",
    "        objects_per_cluster=Counter(self.colored_points)\n",
    "        for cluster in self.clusters:\n",
    "            distanse.append([np.linalg.norm(cluster_2-cluster) for  cluster_2 in self.clusters])\n",
    "        print(f'============Расстояние между центроидами=====\\n{distanse}')\n",
    "        print(f'===========Число объектов в кластере================\\n{objects_per_cluster} ')\n",
    "        \n",
    "    def vizualize(self):\n",
    "        plt.title('Представление точек')\n",
    "        colors=['r','green','y','black']\n",
    "        for n_cluster in range(len(self.clusters)):\n",
    "            points=self.points[np.where(self.colored_points == n_cluster)]\n",
    "            x_1 = []\n",
    "            y_1 = []\n",
    "            for el in points:\n",
    "                x_1.append(el[0])\n",
    "                y_1.append(el[1])\n",
    "            plt.scatter(x_1,y_1,marker='o',c=colors[n_cluster%len(colors)],edgecolor='b')\n",
    "\n",
    "        x_1 = []\n",
    "        y_1 = []\n",
    "        for n_cluster,el in enumerate(self.clusters):\n",
    "            plt.scatter(el[0],el[1],marker='o',c=colors[n_cluster%len(colors)],edgecolor='r')\n",
    "        plt.grid()\n",
    "        plt.show()\n",
    "    \n",
    "\n",
    "            \n",
    "\n",
    "        \n",
    "\n",
    "    def fit(self,X):\n",
    "        self.points=X\n",
    "        #Определяем кластеры случайным образом\n",
    "        self.clusters=self.points[np.random.choice(self.points.shape[0],self.n_clstrs,replace=False)]\n",
    "        #Окрашиваем входные точки по близости к цетроидам\n",
    "        self.color_points()\n",
    "        # Пересчитываем центтроиды\n",
    "        while self.calc_new_clusters():\n",
    "            self.color_points()\n",
    "            self.calc_claster_distanse()\n",
    "            \n",
    "\n",
    "        \n",
    "\n"
   ]
  },
  {
   "cell_type": "code",
   "execution_count": 23,
   "metadata": {},
   "outputs": [],
   "source": [
    "class image_zip:\n",
    "    def __init__(self,image):\n",
    "        self.image=img.imread(image)\n",
    "        self.old_shape=self.image.shape\n",
    "        print(self.image.shape)\n",
    "        self.image=self.image.reshape((-1,3))\n",
    "        print(self.image.shape)\n",
    "\n",
    "    def reduce_colors(self):\n",
    "        for i,pixel in enumerate(self.image):\n",
    "            self.image[i]=self.hand.clusters[self.hand.colored_points[i]]\n",
    "            \n",
    "    def zip(self,zip_n):\n",
    "        self.n_clusters=int(256/zip_n)\n",
    "        self.hand=k_means(self.n_clusters)\n",
    "        self.hand.fit(self.image)\n",
    "        self.reduce_colors()\n",
    "\n",
    "\n",
    "    def show(self):\n",
    "        self.image=self.image.reshape(self.old_shape)\n",
    "        Image.fromarray(self.image).show()\n",
    "    \n",
    "    "
   ]
  },
  {
   "cell_type": "code",
   "execution_count": 26,
   "metadata": {},
   "outputs": [
    {
     "name": "stdout",
     "output_type": "stream",
     "text": [
      "(464, 550, 3)\n",
      "(255200, 3)\n"
     ]
    },
    {
     "name": "stderr",
     "output_type": "stream",
     "text": [
      "C:\\Users\\servo\\AppData\\Local\\Packages\\PythonSoftwareFoundation.Python.3.9_qbz5n2kfra8p0\\LocalCache\\local-packages\\Python39\\site-packages\\numpy\\core\\fromnumeric.py:3440: RuntimeWarning: Mean of empty slice.\n",
      "  return _methods._mean(a, axis=axis, dtype=dtype,\n",
      "C:\\Users\\servo\\AppData\\Local\\Packages\\PythonSoftwareFoundation.Python.3.9_qbz5n2kfra8p0\\LocalCache\\local-packages\\Python39\\site-packages\\numpy\\core\\_methods.py:181: RuntimeWarning: invalid value encountered in true_divide\n",
      "  ret = um.true_divide(\n"
     ]
    },
    {
     "name": "stdout",
     "output_type": "stream",
     "text": [
      "============Расстояние между центроидами=====\n",
      "[[0.0, 358.0223456713282, 266.08645211660064, 360.91688793959196, 256.5677298492544], [91.49863386958299, 0.0, 348.2901089609063, 241.53053637169774, 112.15614116043757], [189.6997627831938, 98.4377976185977, 0.0, 96.97937925146768, 209.97380789041284], [99.70456358662827, 240.46829312822095, 347.1440623141925, 0.0, 118.51582172857766], [333.75889501255244, 335.28942721177475, 242.76943794472976, 338.22773393085316, 0.0]]\n"
     ]
    }
   ],
   "source": [
    "zipper=image_zip('162.jpg')\n",
    "zipper.zip(50)\n",
    "zipper.show()\n",
    "\n",
    "\n"
   ]
  },
  {
   "cell_type": "code",
   "execution_count": 37,
   "metadata": {},
   "outputs": [
    {
     "name": "stdout",
     "output_type": "stream",
     "text": [
      "============Расстояние между центроидами=====\n",
      "[[0.0, 6.164971406705859, 5.007776750772702], [6.164971406705859, 0.0, 4.84358119223494], [5.007776750772702, 4.84358119223494, 0.0]]\n",
      "===========Число объектов в кластере================\n",
      "Counter({0: 238, 2: 158, 1: 104}) \n",
      "============Расстояние между центроидами=====\n",
      "[[0.0, 5.656108799752798, 5.198966973080784], [5.656108799752798, 0.0, 5.007473425633733], [5.198966973080784, 5.007473425633733, 0.0]]\n",
      "===========Число объектов в кластере================\n",
      "Counter({0: 223, 2: 149, 1: 128}) \n",
      "============Расстояние между центроидами=====\n",
      "[[0.0, 5.499177339775301, 5.244803257382582], [5.499177339775301, 0.0, 5.084376595118922], [5.244803257382582, 5.084376595118922, 0.0]]\n",
      "===========Число объектов в кластере================\n",
      "Counter({0: 212, 2: 149, 1: 139}) \n",
      "============Расстояние между центроидами=====\n",
      "[[0.0, 5.4345246831266145, 5.2498515051447425], [5.4345246831266145, 0.0, 5.115796476740054], [5.2498515051447425, 5.115796476740054, 0.0]]\n",
      "===========Число объектов в кластере================\n",
      "Counter({0: 205, 1: 148, 2: 147}) \n",
      "============Расстояние между центроидами=====\n",
      "[[0.0, 5.377222130408315, 5.264940027278364], [5.377222130408315, 0.0, 5.144477862400549], [5.264940027278364, 5.144477862400549, 0.0]]\n",
      "===========Число объектов в кластере================\n",
      "Counter({0: 203, 1: 153, 2: 144}) \n",
      "============Расстояние между центроидами=====\n",
      "[[0.0, 5.364842912841871, 5.248548774692458], [5.364842912841871, 0.0, 5.203783500909781], [5.248548774692458, 5.203783500909781, 0.0]]\n",
      "===========Число объектов в кластере================\n",
      "Counter({0: 197, 1: 160, 2: 143}) \n",
      "============Расстояние между центроидами=====\n",
      "[[0.0, 5.327531223293193, 5.271870324805846], [5.327531223293193, 0.0, 5.2256105866251], [5.271870324805846, 5.2256105866251, 0.0]]\n",
      "===========Число объектов в кластере================\n",
      "Counter({0: 191, 1: 163, 2: 146}) \n",
      "============Расстояние между центроидами=====\n",
      "[[0.0, 5.304677916316003, 5.279285128840474], [5.304677916316003, 0.0, 5.2557360690393145], [5.279285128840474, 5.2557360690393145, 0.0]]\n",
      "===========Число объектов в кластере================\n",
      "Counter({0: 189, 1: 165, 2: 146}) \n",
      "============Расстояние между центроидами=====\n",
      "[[0.0, 5.320780070122054, 5.292806863015796], [5.320780070122054, 0.0, 5.2365035761517005], [5.292806863015796, 5.2365035761517005, 0.0]]\n",
      "===========Число объектов в кластере================\n",
      "Counter({0: 185, 1: 169, 2: 146}) \n",
      "============Расстояние между центроидами=====\n",
      "[[0.0, 5.339159730644033, 5.278169819877293], [5.339159730644033, 0.0, 5.2649626242183105], [5.278169819877293, 5.2649626242183105, 0.0]]\n",
      "===========Число объектов в кластере================\n",
      "Counter({1: 177, 0: 176, 2: 147}) \n",
      "============Расстояние между центроидами=====\n",
      "[[0.0, 5.37319335328993, 5.213108838552029], [5.37319335328993, 0.0, 5.3733435602340895], [5.213108838552029, 5.3733435602340895, 0.0]]\n",
      "===========Число объектов в кластере================\n",
      "Counter({1: 180, 0: 168, 2: 152}) \n",
      "============Расстояние между центроидами=====\n",
      "[[0.0, 5.391364604548078, 5.222484313175584], [5.391364604548078, 0.0, 5.421470732267091], [5.222484313175584, 5.421470732267091, 0.0]]\n",
      "===========Число объектов в кластере================\n",
      "Counter({1: 178, 0: 167, 2: 155}) \n",
      "============Расстояние между центроидами=====\n",
      "[[0.0, 5.372458978361432, 5.261525895763336], [5.372458978361432, 0.0, 5.427264681716721], [5.261525895763336, 5.427264681716721, 0.0]]\n",
      "===========Число объектов в кластере================\n",
      "Counter({1: 172, 0: 169, 2: 159}) \n",
      "============Расстояние между центроидами=====\n",
      "[[0.0, 5.369260906496946, 5.290198864661604], [5.369260906496946, 0.0, 5.422668436697417], [5.290198864661604, 5.422668436697417, 0.0]]\n",
      "===========Число объектов в кластере================\n",
      "Counter({0: 168, 1: 168, 2: 164}) \n",
      "============Расстояние между центроидами=====\n",
      "[[0.0, 5.370507447142612, 5.291905955350045], [5.370507447142612, 0.0, 5.427555453475753], [5.291905955350045, 5.427555453475753, 0.0]]\n",
      "===========Число объектов в кластере================\n",
      "Counter({0: 168, 2: 166, 1: 166}) \n",
      "============Расстояние между центроидами=====\n",
      "[[0.0, 5.355381103974669, 5.309581669266784], [5.355381103974669, 0.0, 5.429933526441868], [5.309581669266784, 5.429933526441868, 0.0]]\n",
      "===========Число объектов в кластере================\n",
      "Counter({0: 169, 2: 166, 1: 165}) \n",
      "============Расстояние между центроидами=====\n",
      "[[0.0, 5.34458430731663, 5.323507257247147], [5.34458430731663, 0.0, 5.430381534613019], [5.323507257247147, 5.430381534613019, 0.0]]\n",
      "===========Число объектов в кластере================\n",
      "Counter({0: 169, 2: 168, 1: 163}) \n",
      "============Расстояние между центроидами=====\n",
      "[[0.0, 5.336681743431068, 5.332299589114268], [5.336681743431068, 0.0, 5.432680296984001], [5.332299589114268, 5.432680296984001, 0.0]]\n",
      "===========Число объектов в кластере================\n",
      "Counter({0: 170, 2: 168, 1: 162}) \n",
      "============Расстояние между центроидами=====\n",
      "[[0.0, 5.335479729353728, 5.336665714034423], [5.335479729353728, 0.0, 5.43185874228151], [5.336665714034423, 5.43185874228151, 0.0]]\n",
      "===========Число объектов в кластере================\n",
      "Counter({2: 171, 0: 170, 1: 159}) \n",
      "============Расстояние между центроидами=====\n",
      "[[0.0, 5.332400387109861, 5.34043163547995], [5.332400387109861, 0.0, 5.4364426124332645], [5.34043163547995, 5.4364426124332645, 0.0]]\n",
      "===========Число объектов в кластере================\n",
      "Counter({2: 173, 0: 169, 1: 158}) \n",
      "============Расстояние между центроидами=====\n",
      "[[0.0, 5.320200785405526, 5.356389743605916], [5.320200785405526, 0.0, 5.434271710172967], [5.356389743605916, 5.434271710172967, 0.0]]\n",
      "===========Число объектов в кластере================\n",
      "Counter({2: 173, 0: 169, 1: 158}) \n"
     ]
    },
    {
     "data": {
      "image/png": "[encoded data removed]",
      "text/plain": [
       "<Figure size 432x288 with 1 Axes>"
      ]
     },
     "metadata": {
      "needs_background": "light"
     },
     "output_type": "display_data"
    }
   ],
   "source": [
    "model=k_means(3)\n",
    "X=10*np.random.rand(500,2)\n",
    "\n",
    "model.fit(X)\n",
    "model.vizualize()"
   ]
  },
  {
   "cell_type": "code",
   "execution_count": null,
   "metadata": {},
   "outputs": [],
   "source": []
  },
  {
   "cell_type": "code",
   "execution_count": null,
   "metadata": {},
   "outputs": [],
   "source": []
  }
 ],
 "metadata": {
  "interpreter": {
   "hash": "55b48c5db416cdabfee748c4054e475a0143673f948d94a62593ec0703da4b78"
  },
  "kernelspec": {
   "display_name": "Python 3.9.9 64-bit (windows store)",
   "name": "python3"
  },
  "language_info": {
   "codemirror_mode": {
    "name": "ipython",
    "version": 3
   },
   "file_extension": ".py",
   "mimetype": "text/x-python",
   "name": "python",
   "nbconvert_exporter": "python",
   "pygments_lexer": "ipython3",
   "version": "3.9.9"
  },
  "orig_nbformat": 4
 },
 "nbformat": 4,
 "nbformat_minor": 2
}
